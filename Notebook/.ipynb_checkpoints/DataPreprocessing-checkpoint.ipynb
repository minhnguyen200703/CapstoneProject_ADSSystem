{
 "cells": [
  {
   "cell_type": "code",
   "execution_count": null,
   "id": "cac3f062-c96d-453c-8eb2-a5230364b061",
   "metadata": {},
   "outputs": [],
   "source": [
    "import uuid\n",
    "from datetime import datetime"
   ]
  },
  {
   "cell_type": "code",
   "execution_count": null,
   "id": "1c8e15a8-05bf-43bc-bb81-772040218a82",
   "metadata": {},
   "outputs": [],
   "source": [
    "# Function to Generate Taskjobs from Orders:\n",
    "\n",
    "def generate_taskjobs_from_orders(orders):\n",
    "    taskjobs = []\n",
    "    for order in orders:\n",
    "        if order[\"OrderType\"] == \"Booking\":\n",
    "            taskjobs.append({\n",
    "                \"TaskJobID\": str(uuid.uuid4()),\n",
    "                \"OrderID\": order[\"OrderID\"],\n",
    "                \"TaskJobType\": \"Book_1\",\n",
    "                \"Deadline\": order[\"Book_LiftingEmpty\"],\n",
    "                \"Locations\": [None, order[\"Locations\"][0]],\n",
    "                \"CurrentStatus\": \"Pending\"\n",
    "            })\n",
    "            taskjobs.append({\n",
    "                \"TaskJobID\": str(uuid.uuid4()),\n",
    "                \"OrderID\": order[\"OrderID\"],\n",
    "                \"TaskJobType\": \"Book_2\",\n",
    "                \"Deadline\": order[\"Book_CutOffDate\"],\n",
    "                \"Locations\": order[\"Locations\"],\n",
    "                \"CurrentStatus\": \"Pending\"\n",
    "            })\n",
    "        elif order[\"OrderType\"] == \"Bill\":\n",
    "            taskjobs.append({\n",
    "                \"TaskJobID\": str(uuid.uuid4()),\n",
    "                \"OrderID\": order[\"OrderID\"],\n",
    "                \"TaskJobType\": \"Bill_1\",\n",
    "                \"Deadline\": order[\"Bill_LastFreeDayDEM\"],\n",
    "                \"Locations\": order[\"Locations\"],\n",
    "                \"CurrentStatus\": \"Pending\"\n",
    "            })\n",
    "            taskjobs.append({\n",
    "                \"TaskJobID\": str(uuid.uuid4()),\n",
    "                \"OrderID\": order[\"OrderID\"],\n",
    "                \"TaskJobType\": \"Bill_2\",\n",
    "                \"Deadline\": order[\"Bill_LastFreeDayDET\"],\n",
    "                \"Locations\": order[\"Locations\"][::-1],\n",
    "                \"CurrentStatus\": \"Pending\"\n",
    "            })\n",
    "    return taskjobs\n",
    "\n",
    "\n"
   ]
  }
 ],
 "metadata": {
  "kernelspec": {
   "display_name": "Python 3 (ipykernel)",
   "language": "python",
   "name": "python3"
  },
  "language_info": {
   "codemirror_mode": {
    "name": "ipython",
    "version": 3
   },
   "file_extension": ".py",
   "mimetype": "text/x-python",
   "name": "python",
   "nbconvert_exporter": "python",
   "pygments_lexer": "ipython3",
   "version": "3.11.7"
  }
 },
 "nbformat": 4,
 "nbformat_minor": 5
}
